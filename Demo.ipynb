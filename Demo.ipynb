{
 "cells": [
  {
   "cell_type": "code",
   "execution_count": 1,
   "id": "ee5afb39-6705-4779-a267-6256de31d941",
   "metadata": {},
   "outputs": [
    {
     "name": "stdout",
     "output_type": "stream",
     "text": [
      "   Year  Month  Day  Hour  Minute  Temperature  Clearsky.DHI  Clearsky.DNI  \\\n",
      "0  2018      1    1     0       0          7.9             0             0   \n",
      "1  2018      1    1     0      15          7.9             0             0   \n",
      "2  2018      1    1     0      30          7.8             0             0   \n",
      "3  2018      1    1     0      45          7.7             0             0   \n",
      "4  2018      1    1     1       0          7.7             0             0   \n",
      "\n",
      "   Clearsky.GHI  Cloud.Type  ...  GHI  Ozone  Relative.Humidity  \\\n",
      "0             0           7  ...    0  0.287              93.39   \n",
      "1             0           8  ...    0  0.287              93.39   \n",
      "2             0           8  ...    0  0.286              94.03   \n",
      "3             0           7  ...    0  0.286              91.31   \n",
      "4             0           7  ...    0  0.286              91.31   \n",
      "\n",
      "   Solar.Zenith.Angle  Surface.Albedo  Pressure  Precipitable.Water  \\\n",
      "0              148.97            0.12       993                 1.9   \n",
      "1              147.97            0.12       993                 1.9   \n",
      "2              146.76            0.12       993                 2.0   \n",
      "3              145.35            0.12       993                 2.0   \n",
      "4              143.78            0.12       993                 2.0   \n",
      "\n",
      "   Wind.Direction  Wind.Speed  X50Hertz..MW.  \n",
      "0             212         5.6         713.29  \n",
      "1             213         5.7         701.46  \n",
      "2             214         5.8         701.96  \n",
      "3             214         5.8         733.83  \n",
      "4             215         5.9         753.35  \n",
      "\n",
      "[5 rows x 24 columns]\n",
      "(70080, 24)\n",
      "5.078478042036295\n",
      "torch.Size([16, 3]) torch.Size([16])\n",
      "\n",
      "=== Optimizing for weight vector tensor([0., 1., 0.]) ===\n"
     ]
    },
    {
     "name": "stderr",
     "output_type": "stream",
     "text": [
      "Sample: 100%|████████| 768/768 [00:21, 36.02it/s, step size=4.55e-01, acc. prob=0.929]\n"
     ]
    },
    {
     "name": "stdout",
     "output_type": "stream",
     "text": [
      "Train_y stats: min=0.1250, max=0.1250\n",
      "Train_x stats: min=0.0893, max=120.2992\n",
      "Train_x stats: max=120.2992, min=0.0893\n"
     ]
    },
    {
     "name": "stderr",
     "output_type": "stream",
     "text": [
      "Sample: 100%|████████| 768/768 [00:14, 53.55it/s, step size=3.81e-01, acc. prob=0.937]\n"
     ]
    },
    {
     "name": "stdout",
     "output_type": "stream",
     "text": [
      "Train_y stats: min=0.1250, max=0.1250\n",
      "Train_x stats: min=0.0893, max=120.2992\n",
      "Train_x stats: max=120.2992, min=0.0893\n"
     ]
    },
    {
     "name": "stderr",
     "output_type": "stream",
     "text": [
      "Sample: 100%|████████| 768/768 [00:14, 53.12it/s, step size=3.97e-01, acc. prob=0.935]\n"
     ]
    },
    {
     "name": "stdout",
     "output_type": "stream",
     "text": [
      "Train_y stats: min=0.1250, max=0.1250\n",
      "Train_x stats: min=0.0500, max=120.2992\n",
      "Train_x stats: max=120.2992, min=0.0500\n"
     ]
    },
    {
     "name": "stderr",
     "output_type": "stream",
     "text": [
      "Sample: 100%|████████| 768/768 [00:11, 68.05it/s, step size=4.31e-01, acc. prob=0.906]\n"
     ]
    },
    {
     "name": "stdout",
     "output_type": "stream",
     "text": [
      "Train_y stats: min=0.1250, max=0.1250\n",
      "Train_x stats: min=0.0500, max=128.0000\n",
      "Train_x stats: max=128.0000, min=0.0500\n"
     ]
    },
    {
     "name": "stderr",
     "output_type": "stream",
     "text": [
      "Sample: 100%|████████| 768/768 [00:11, 65.98it/s, step size=4.82e-01, acc. prob=0.866]\n"
     ]
    },
    {
     "name": "stdout",
     "output_type": "stream",
     "text": [
      "Train_y stats: min=0.1250, max=0.1250\n",
      "Train_x stats: min=0.0500, max=128.0000\n",
      "Train_x stats: max=128.0000, min=0.0500\n"
     ]
    },
    {
     "name": "stderr",
     "output_type": "stream",
     "text": [
      "Sample: 100%|████████| 768/768 [00:22, 34.79it/s, step size=5.28e-01, acc. prob=0.899]\n"
     ]
    },
    {
     "name": "stdout",
     "output_type": "stream",
     "text": [
      "Train_y stats: min=0.1250, max=0.1250\n",
      "Train_x stats: min=0.0500, max=128.0000\n",
      "Train_x stats: max=128.0000, min=0.0500\n"
     ]
    },
    {
     "name": "stderr",
     "output_type": "stream",
     "text": [
      "Sample: 100%|████████| 768/768 [00:13, 57.57it/s, step size=4.93e-01, acc. prob=0.886]\n"
     ]
    },
    {
     "name": "stdout",
     "output_type": "stream",
     "text": [
      "Train_y stats: min=0.1250, max=0.1250\n",
      "Train_x stats: min=0.0500, max=128.0000\n",
      "Train_x stats: max=128.0000, min=0.0500\n"
     ]
    },
    {
     "name": "stderr",
     "output_type": "stream",
     "text": [
      "Sample: 100%|████████| 768/768 [00:22, 34.17it/s, step size=4.40e-01, acc. prob=0.924]\n"
     ]
    },
    {
     "name": "stdout",
     "output_type": "stream",
     "text": [
      "Train_y stats: min=0.1250, max=0.1250\n",
      "Train_x stats: min=0.0500, max=128.0000\n",
      "Train_x stats: max=128.0000, min=0.0500\n"
     ]
    },
    {
     "name": "stderr",
     "output_type": "stream",
     "text": [
      "Sample: 100%|████████| 768/768 [00:10, 72.10it/s, step size=5.56e-01, acc. prob=0.868]\n"
     ]
    },
    {
     "name": "stdout",
     "output_type": "stream",
     "text": [
      "Train_y stats: min=0.1250, max=0.1250\n",
      "Train_x stats: min=0.0500, max=128.0000\n",
      "Train_x stats: max=128.0000, min=0.0500\n"
     ]
    },
    {
     "name": "stderr",
     "output_type": "stream",
     "text": [
      "Sample: 100%|████████| 768/768 [00:14, 51.93it/s, step size=4.86e-01, acc. prob=0.883]\n"
     ]
    },
    {
     "name": "stdout",
     "output_type": "stream",
     "text": [
      "Train_y stats: min=0.1250, max=0.1250\n",
      "Train_x stats: min=0.0500, max=128.0000\n",
      "Train_x stats: max=128.0000, min=0.0500\n"
     ]
    },
    {
     "name": "stderr",
     "output_type": "stream",
     "text": [
      "Sample: 100%|████████| 768/768 [00:10, 72.65it/s, step size=4.93e-01, acc. prob=0.894]\n"
     ]
    },
    {
     "name": "stdout",
     "output_type": "stream",
     "text": [
      "Best input for weight tensor([0., 1., 0.]):\n",
      "  Accuracy = 0.2002\n",
      "  Sparsity = 0.1250\n",
      "\n",
      "=== Optimizing for weight vector tensor([0., 0., 1.]) ===\n"
     ]
    },
    {
     "name": "stderr",
     "output_type": "stream",
     "text": [
      "Sample: 100%|████████| 768/768 [00:14, 54.66it/s, step size=4.29e-01, acc. prob=0.933]\n"
     ]
    },
    {
     "name": "stdout",
     "output_type": "stream",
     "text": [
      "Train_y stats: min=2.1966, max=23.5658\n",
      "Train_x stats: min=0.0558, max=123.7562\n",
      "Train_x stats: max=123.7562, min=0.0558\n"
     ]
    },
    {
     "name": "stderr",
     "output_type": "stream",
     "text": [
      "Sample: 100%|████████| 768/768 [00:13, 54.99it/s, step size=3.64e-01, acc. prob=0.897]\n"
     ]
    },
    {
     "name": "stdout",
     "output_type": "stream",
     "text": [
      "Train_y stats: min=2.1966, max=23.5658\n",
      "Train_x stats: min=0.0558, max=123.7562\n",
      "Train_x stats: max=123.7562, min=0.0558\n"
     ]
    },
    {
     "name": "stderr",
     "output_type": "stream",
     "text": [
      "Sample: 100%|████████| 768/768 [00:22, 34.45it/s, step size=1.68e-01, acc. prob=0.922]\n"
     ]
    },
    {
     "name": "stdout",
     "output_type": "stream",
     "text": [
      "Train_y stats: min=2.1966, max=23.5658\n",
      "Train_x stats: min=0.0558, max=123.7562\n",
      "Train_x stats: max=123.7562, min=0.0558\n"
     ]
    },
    {
     "name": "stderr",
     "output_type": "stream",
     "text": [
      "Sample: 100%|████████| 768/768 [00:28, 26.59it/s, step size=1.76e-01, acc. prob=0.835]\n"
     ]
    },
    {
     "name": "stdout",
     "output_type": "stream",
     "text": [
      "Train_y stats: min=2.1966, max=23.5658\n",
      "Train_x stats: min=0.0558, max=123.7562\n",
      "Train_x stats: max=123.7562, min=0.0558\n"
     ]
    },
    {
     "name": "stderr",
     "output_type": "stream",
     "text": [
      "Sample: 100%|████████| 768/768 [00:17, 44.78it/s, step size=3.47e-01, acc. prob=0.888]\n"
     ]
    },
    {
     "name": "stdout",
     "output_type": "stream",
     "text": [
      "Train_y stats: min=2.1966, max=23.5658\n",
      "Train_x stats: min=0.0558, max=123.7562\n",
      "Train_x stats: max=123.7562, min=0.0558\n"
     ]
    },
    {
     "name": "stderr",
     "output_type": "stream",
     "text": [
      "Sample: 100%|████████| 768/768 [00:33, 22.80it/s, step size=1.26e-01, acc. prob=0.934]\n"
     ]
    },
    {
     "name": "stdout",
     "output_type": "stream",
     "text": [
      "Train_y stats: min=2.1966, max=23.5658\n",
      "Train_x stats: min=0.0558, max=123.7562\n",
      "Train_x stats: max=123.7562, min=0.0558\n"
     ]
    },
    {
     "name": "stderr",
     "output_type": "stream",
     "text": [
      "Sample: 100%|████████| 768/768 [00:19, 39.77it/s, step size=3.39e-01, acc. prob=0.851]\n"
     ]
    },
    {
     "name": "stdout",
     "output_type": "stream",
     "text": [
      "Train_y stats: min=2.1966, max=23.5658\n",
      "Train_x stats: min=0.0558, max=123.7562\n",
      "Train_x stats: max=123.7562, min=0.0558\n"
     ]
    },
    {
     "name": "stderr",
     "output_type": "stream",
     "text": [
      "Sample: 100%|████████| 768/768 [00:25, 29.94it/s, step size=1.34e-01, acc. prob=0.883]\n"
     ]
    },
    {
     "name": "stdout",
     "output_type": "stream",
     "text": [
      "Train_y stats: min=2.1966, max=23.5658\n",
      "Train_x stats: min=0.0558, max=123.7562\n",
      "Train_x stats: max=123.7562, min=0.0558\n"
     ]
    },
    {
     "name": "stderr",
     "output_type": "stream",
     "text": [
      "Sample: 100%|████████| 768/768 [00:18, 41.03it/s, step size=3.71e-01, acc. prob=0.809]\n"
     ]
    },
    {
     "name": "stdout",
     "output_type": "stream",
     "text": [
      "Train_y stats: min=2.1966, max=23.5658\n",
      "Train_x stats: min=0.0558, max=123.7562\n",
      "Train_x stats: max=123.7562, min=0.0558\n"
     ]
    },
    {
     "name": "stderr",
     "output_type": "stream",
     "text": [
      "Sample: 100%|████████| 768/768 [00:17, 44.24it/s, step size=2.95e-01, acc. prob=0.916]\n"
     ]
    },
    {
     "name": "stdout",
     "output_type": "stream",
     "text": [
      "Train_y stats: min=1.7191, max=23.5658\n",
      "Train_x stats: min=0.0558, max=123.7562\n",
      "Train_x stats: max=123.7562, min=0.0558\n"
     ]
    },
    {
     "name": "stderr",
     "output_type": "stream",
     "text": [
      "Sample: 100%|████████| 768/768 [00:16, 47.32it/s, step size=3.58e-01, acc. prob=0.866]\n"
     ]
    },
    {
     "name": "stdout",
     "output_type": "stream",
     "text": [
      "Best input for weight tensor([0., 0., 1.]):\n",
      "  Accuracy = 0.1991\n",
      "  Sparsity = 0.1250\n",
      "\n",
      "=== Optimizing for weight vector tensor([1., 0., 0.]) ===\n"
     ]
    },
    {
     "name": "stderr",
     "output_type": "stream",
     "text": [
      "Sample: 100%|████████| 768/768 [00:11, 69.55it/s, step size=4.83e-01, acc. prob=0.820]\n"
     ]
    },
    {
     "name": "stdout",
     "output_type": "stream",
     "text": [
      "Train_y stats: min=0.6986, max=0.8072\n",
      "Train_x stats: min=0.1257, max=117.8917\n",
      "Train_x stats: max=117.8917, min=0.1257\n"
     ]
    },
    {
     "name": "stderr",
     "output_type": "stream",
     "text": [
      "Sample: 100%|████████| 768/768 [00:11, 69.05it/s, step size=4.04e-01, acc. prob=0.895]\n"
     ]
    },
    {
     "name": "stdout",
     "output_type": "stream",
     "text": [
      "Train_y stats: min=0.6986, max=0.8072\n",
      "Train_x stats: min=0.1257, max=117.8917\n",
      "Train_x stats: max=117.8917, min=0.1257\n"
     ]
    },
    {
     "name": "stderr",
     "output_type": "stream",
     "text": [
      "Sample: 100%|████████| 768/768 [00:11, 68.20it/s, step size=4.88e-01, acc. prob=0.894]\n"
     ]
    },
    {
     "name": "stdout",
     "output_type": "stream",
     "text": [
      "Train_y stats: min=0.6986, max=0.8072\n",
      "Train_x stats: min=0.1257, max=117.8917\n",
      "Train_x stats: max=117.8917, min=0.1257\n"
     ]
    },
    {
     "name": "stderr",
     "output_type": "stream",
     "text": [
      "Sample: 100%|████████| 768/768 [00:11, 67.59it/s, step size=4.86e-01, acc. prob=0.870]\n"
     ]
    },
    {
     "name": "stdout",
     "output_type": "stream",
     "text": [
      "Train_y stats: min=0.6986, max=0.8074\n",
      "Train_x stats: min=0.1257, max=117.8917\n",
      "Train_x stats: max=117.8917, min=0.1257\n"
     ]
    },
    {
     "name": "stderr",
     "output_type": "stream",
     "text": [
      "Sample: 100%|████████| 768/768 [00:12, 60.38it/s, step size=4.34e-01, acc. prob=0.903]\n"
     ]
    },
    {
     "name": "stdout",
     "output_type": "stream",
     "text": [
      "Train_y stats: min=0.6986, max=0.8074\n",
      "Train_x stats: min=0.1257, max=117.8917\n",
      "Train_x stats: max=117.8917, min=0.1257\n"
     ]
    },
    {
     "name": "stderr",
     "output_type": "stream",
     "text": [
      "Sample: 100%|████████| 768/768 [00:11, 68.07it/s, step size=4.55e-01, acc. prob=0.891]\n"
     ]
    },
    {
     "name": "stdout",
     "output_type": "stream",
     "text": [
      "Train_y stats: min=0.6986, max=0.8074\n",
      "Train_x stats: min=0.1257, max=117.8917\n",
      "Train_x stats: max=117.8917, min=0.1257\n"
     ]
    },
    {
     "name": "stderr",
     "output_type": "stream",
     "text": [
      "Sample: 100%|████████| 768/768 [00:19, 39.31it/s, step size=4.96e-01, acc. prob=0.881]\n"
     ]
    },
    {
     "name": "stdout",
     "output_type": "stream",
     "text": [
      "Train_y stats: min=0.6986, max=0.8074\n",
      "Train_x stats: min=0.1257, max=117.8917\n",
      "Train_x stats: max=117.8917, min=0.1257\n"
     ]
    },
    {
     "name": "stderr",
     "output_type": "stream",
     "text": [
      "Sample: 100%|████████| 768/768 [00:12, 60.27it/s, step size=4.40e-01, acc. prob=0.900]\n"
     ]
    },
    {
     "name": "stdout",
     "output_type": "stream",
     "text": [
      "Train_y stats: min=0.6986, max=0.8074\n",
      "Train_x stats: min=0.1257, max=117.8917\n",
      "Train_x stats: max=117.8917, min=0.1257\n"
     ]
    },
    {
     "name": "stderr",
     "output_type": "stream",
     "text": [
      "Sample: 100%|████████| 768/768 [00:16, 47.57it/s, step size=4.44e-01, acc. prob=0.833]\n"
     ]
    },
    {
     "name": "stdout",
     "output_type": "stream",
     "text": [
      "Train_y stats: min=0.6986, max=0.8074\n",
      "Train_x stats: min=0.1257, max=117.8917\n",
      "Train_x stats: max=117.8917, min=0.1257\n"
     ]
    },
    {
     "name": "stderr",
     "output_type": "stream",
     "text": [
      "Sample: 100%|████████| 768/768 [00:20, 38.33it/s, step size=4.74e-01, acc. prob=0.899]\n"
     ]
    },
    {
     "name": "stdout",
     "output_type": "stream",
     "text": [
      "Train_y stats: min=0.6986, max=0.8074\n",
      "Train_x stats: min=0.1257, max=117.8917\n",
      "Train_x stats: max=117.8917, min=0.1257\n"
     ]
    },
    {
     "name": "stderr",
     "output_type": "stream",
     "text": [
      "Sample: 100%|████████| 768/768 [00:12, 62.23it/s, step size=4.63e-01, acc. prob=0.908]\n"
     ]
    },
    {
     "name": "stdout",
     "output_type": "stream",
     "text": [
      "Best input for weight tensor([1., 0., 0.]):\n",
      "  Accuracy = 0.2671\n",
      "  Sparsity = 0.1250\n",
      "\n",
      "=== Optimizing for weight vector tensor([0.5000, 0.5000, 0.0000]) ===\n"
     ]
    },
    {
     "name": "stderr",
     "output_type": "stream",
     "text": [
      "Sample: 100%|████████| 768/768 [00:14, 51.47it/s, step size=4.58e-01, acc. prob=0.878]\n"
     ]
    },
    {
     "name": "stdout",
     "output_type": "stream",
     "text": [
      "Train_y stats: min=0.4293, max=0.4665\n",
      "Train_x stats: min=0.1048, max=127.5406\n",
      "Train_x stats: max=127.5406, min=0.1048\n"
     ]
    },
    {
     "name": "stderr",
     "output_type": "stream",
     "text": [
      "Sample: 100%|████████| 768/768 [00:14, 54.66it/s, step size=3.46e-01, acc. prob=0.938]\n"
     ]
    },
    {
     "name": "stdout",
     "output_type": "stream",
     "text": [
      "Train_y stats: min=0.4293, max=0.4665\n",
      "Train_x stats: min=0.1048, max=128.0000\n",
      "Train_x stats: max=128.0000, min=0.1048\n"
     ]
    },
    {
     "name": "stderr",
     "output_type": "stream",
     "text": [
      "Sample: 100%|████████| 768/768 [00:11, 66.61it/s, step size=4.27e-01, acc. prob=0.895]\n"
     ]
    },
    {
     "name": "stdout",
     "output_type": "stream",
     "text": [
      "Train_y stats: min=0.4293, max=0.4665\n",
      "Train_x stats: min=0.1048, max=128.0000\n",
      "Train_x stats: max=128.0000, min=0.1048\n"
     ]
    },
    {
     "name": "stderr",
     "output_type": "stream",
     "text": [
      "Sample: 100%|████████| 768/768 [00:14, 53.14it/s, step size=3.47e-01, acc. prob=0.934]\n"
     ]
    },
    {
     "name": "stdout",
     "output_type": "stream",
     "text": [
      "Train_y stats: min=0.4293, max=0.4665\n",
      "Train_x stats: min=0.1048, max=128.0000\n",
      "Train_x stats: max=128.0000, min=0.1048\n"
     ]
    },
    {
     "name": "stderr",
     "output_type": "stream",
     "text": [
      "Sample: 100%|████████| 768/768 [00:12, 62.50it/s, step size=4.02e-01, acc. prob=0.902]\n"
     ]
    },
    {
     "name": "stdout",
     "output_type": "stream",
     "text": [
      "Train_y stats: min=0.4293, max=0.4665\n",
      "Train_x stats: min=0.1048, max=128.0000\n",
      "Train_x stats: max=128.0000, min=0.1048\n"
     ]
    },
    {
     "name": "stderr",
     "output_type": "stream",
     "text": [
      "Sample: 100%|████████| 768/768 [00:12, 63.46it/s, step size=3.94e-01, acc. prob=0.868]\n"
     ]
    },
    {
     "name": "stdout",
     "output_type": "stream",
     "text": [
      "Train_y stats: min=0.4269, max=0.4665\n",
      "Train_x stats: min=0.0500, max=128.0000\n",
      "Train_x stats: max=128.0000, min=0.0500\n"
     ]
    },
    {
     "name": "stderr",
     "output_type": "stream",
     "text": [
      "Sample: 100%|████████| 768/768 [00:14, 53.05it/s, step size=3.54e-01, acc. prob=0.887]\n"
     ]
    },
    {
     "name": "stdout",
     "output_type": "stream",
     "text": [
      "Train_y stats: min=0.4269, max=0.4665\n",
      "Train_x stats: min=0.0500, max=128.0000\n",
      "Train_x stats: max=128.0000, min=0.0500\n"
     ]
    },
    {
     "name": "stderr",
     "output_type": "stream",
     "text": [
      "Sample: 100%|████████| 768/768 [00:13, 55.97it/s, step size=3.22e-01, acc. prob=0.908]\n"
     ]
    },
    {
     "name": "stdout",
     "output_type": "stream",
     "text": [
      "Train_y stats: min=0.4269, max=0.4665\n",
      "Train_x stats: min=0.0500, max=128.0000\n",
      "Train_x stats: max=128.0000, min=0.0500\n"
     ]
    },
    {
     "name": "stderr",
     "output_type": "stream",
     "text": [
      "Sample: 100%|████████| 768/768 [00:13, 57.52it/s, step size=3.64e-01, acc. prob=0.868]\n"
     ]
    },
    {
     "name": "stdout",
     "output_type": "stream",
     "text": [
      "Train_y stats: min=0.4269, max=0.4665\n",
      "Train_x stats: min=0.0500, max=128.0000\n",
      "Train_x stats: max=128.0000, min=0.0500\n"
     ]
    },
    {
     "name": "stderr",
     "output_type": "stream",
     "text": [
      "Sample: 100%|████████| 768/768 [00:14, 52.24it/s, step size=2.71e-01, acc. prob=0.940]\n"
     ]
    },
    {
     "name": "stdout",
     "output_type": "stream",
     "text": [
      "Train_y stats: min=0.4269, max=0.4665\n",
      "Train_x stats: min=0.0500, max=128.0000\n",
      "Train_x stats: max=128.0000, min=0.0500\n"
     ]
    },
    {
     "name": "stderr",
     "output_type": "stream",
     "text": [
      "Sample: 100%|████████| 768/768 [00:16, 46.35it/s, step size=3.52e-01, acc. prob=0.914]\n"
     ]
    },
    {
     "name": "stdout",
     "output_type": "stream",
     "text": [
      "Best input for weight tensor([0.5000, 0.5000, 0.0000]):\n",
      "  Accuracy = 0.3296\n",
      "  Sparsity = 0.1250\n",
      "\n",
      "=== Optimizing for weight vector tensor([0.0000, 0.5000, 0.5000]) ===\n"
     ]
    },
    {
     "name": "stderr",
     "output_type": "stream",
     "text": [
      "Sample: 100%|████████| 768/768 [00:13, 57.94it/s, step size=3.99e-01, acc. prob=0.875]\n"
     ]
    },
    {
     "name": "stdout",
     "output_type": "stream",
     "text": [
      "Train_y stats: min=0.9122, max=9.9099\n",
      "Train_x stats: min=0.0537, max=125.5889\n",
      "Train_x stats: max=125.5889, min=0.0537\n"
     ]
    },
    {
     "name": "stderr",
     "output_type": "stream",
     "text": [
      "Sample: 100%|████████| 768/768 [00:14, 53.72it/s, step size=3.85e-01, acc. prob=0.826]\n"
     ]
    },
    {
     "name": "stdout",
     "output_type": "stream",
     "text": [
      "Train_y stats: min=0.9122, max=9.9099\n",
      "Train_x stats: min=0.0500, max=125.5889\n",
      "Train_x stats: max=125.5889, min=0.0500\n"
     ]
    },
    {
     "name": "stderr",
     "output_type": "stream",
     "text": [
      "Sample: 100%|████████| 768/768 [00:13, 58.96it/s, step size=3.44e-01, acc. prob=0.930]\n"
     ]
    },
    {
     "name": "stdout",
     "output_type": "stream",
     "text": [
      "Train_y stats: min=0.9122, max=9.9099\n",
      "Train_x stats: min=0.0500, max=125.5889\n",
      "Train_x stats: max=125.5889, min=0.0500\n"
     ]
    },
    {
     "name": "stderr",
     "output_type": "stream",
     "text": [
      "Sample: 100%|████████| 768/768 [00:17, 43.31it/s, step size=2.65e-01, acc. prob=0.932]\n"
     ]
    },
    {
     "name": "stdout",
     "output_type": "stream",
     "text": [
      "Train_y stats: min=0.9122, max=11.0769\n",
      "Train_x stats: min=0.0500, max=125.5889\n",
      "Train_x stats: max=125.5889, min=0.0500\n"
     ]
    },
    {
     "name": "stderr",
     "output_type": "stream",
     "text": [
      "Sample: 100%|████████| 768/768 [00:33, 22.77it/s, step size=1.06e-01, acc. prob=0.884]\n"
     ]
    },
    {
     "name": "stdout",
     "output_type": "stream",
     "text": [
      "Train_y stats: min=0.9122, max=11.0769\n",
      "Train_x stats: min=0.0500, max=125.5889\n",
      "Train_x stats: max=125.5889, min=0.0500\n"
     ]
    },
    {
     "name": "stderr",
     "output_type": "stream",
     "text": [
      "Sample: 100%|████████| 768/768 [00:20, 37.51it/s, step size=2.66e-01, acc. prob=0.825]\n"
     ]
    },
    {
     "name": "stdout",
     "output_type": "stream",
     "text": [
      "Train_y stats: min=0.9122, max=11.0769\n",
      "Train_x stats: min=0.0500, max=125.5889\n",
      "Train_x stats: max=125.5889, min=0.0500\n"
     ]
    },
    {
     "name": "stderr",
     "output_type": "stream",
     "text": [
      "Sample: 100%|████████| 768/768 [00:29, 25.93it/s, step size=8.72e-02, acc. prob=0.932]\n"
     ]
    },
    {
     "name": "stdout",
     "output_type": "stream",
     "text": [
      "Train_y stats: min=0.9122, max=11.0769\n",
      "Train_x stats: min=0.0500, max=125.5889\n",
      "Train_x stats: max=125.5889, min=0.0500\n"
     ]
    },
    {
     "name": "stderr",
     "output_type": "stream",
     "text": [
      "Sample: 100%|████████| 768/768 [00:42, 17.95it/s, step size=8.36e-02, acc. prob=0.817]\n"
     ]
    },
    {
     "name": "stdout",
     "output_type": "stream",
     "text": [
      "Train_y stats: min=0.9122, max=13.3291\n",
      "Train_x stats: min=0.0500, max=125.5889\n",
      "Train_x stats: max=125.5889, min=0.0500\n"
     ]
    },
    {
     "name": "stderr",
     "output_type": "stream",
     "text": [
      "Sample: 100%|████████| 768/768 [00:23, 33.15it/s, step size=2.32e-01, acc. prob=0.943]\n"
     ]
    },
    {
     "name": "stdout",
     "output_type": "stream",
     "text": [
      "Train_y stats: min=0.9122, max=13.3291\n",
      "Train_x stats: min=0.0500, max=125.5889\n",
      "Train_x stats: max=125.5889, min=0.0500\n"
     ]
    },
    {
     "name": "stderr",
     "output_type": "stream",
     "text": [
      "Sample: 100%|████████| 768/768 [00:21, 34.97it/s, step size=3.05e-01, acc. prob=0.945]\n"
     ]
    },
    {
     "name": "stdout",
     "output_type": "stream",
     "text": [
      "Train_y stats: min=0.9122, max=13.3291\n",
      "Train_x stats: min=0.0500, max=125.5889\n",
      "Train_x stats: max=125.5889, min=0.0500\n"
     ]
    },
    {
     "name": "stderr",
     "output_type": "stream",
     "text": [
      "Sample: 100%|████████| 768/768 [00:24, 31.68it/s, step size=1.70e-01, acc. prob=0.903]\n"
     ]
    },
    {
     "name": "stdout",
     "output_type": "stream",
     "text": [
      "Best input for weight tensor([0.0000, 0.5000, 0.5000]):\n",
      "  Accuracy = 0.1928\n",
      "  Sparsity = 0.1250\n",
      "\n",
      "=== Optimizing for weight vector tensor([0.5000, 0.0000, 0.5000]) ===\n"
     ]
    },
    {
     "name": "stderr",
     "output_type": "stream",
     "text": [
      "Sample: 100%|████████| 768/768 [00:13, 55.63it/s, step size=3.74e-01, acc. prob=0.843]\n"
     ]
    },
    {
     "name": "stdout",
     "output_type": "stream",
     "text": [
      "Train_y stats: min=1.6562, max=9.6278\n",
      "Train_x stats: min=0.0641, max=116.4395\n",
      "Train_x stats: max=116.4395, min=0.0641\n"
     ]
    },
    {
     "name": "stderr",
     "output_type": "stream",
     "text": [
      "Sample: 100%|████████| 768/768 [00:12, 61.58it/s, step size=3.68e-01, acc. prob=0.918]\n"
     ]
    },
    {
     "name": "stdout",
     "output_type": "stream",
     "text": [
      "Train_y stats: min=1.6562, max=9.6278\n",
      "Train_x stats: min=0.0641, max=116.4395\n",
      "Train_x stats: max=116.4395, min=0.0641\n"
     ]
    },
    {
     "name": "stderr",
     "output_type": "stream",
     "text": [
      "Sample: 100%|████████| 768/768 [00:14, 54.07it/s, step size=3.62e-01, acc. prob=0.947]\n"
     ]
    },
    {
     "name": "stdout",
     "output_type": "stream",
     "text": [
      "Train_y stats: min=1.6562, max=9.6278\n",
      "Train_x stats: min=0.0641, max=116.4395\n",
      "Train_x stats: max=116.4395, min=0.0641\n"
     ]
    },
    {
     "name": "stderr",
     "output_type": "stream",
     "text": [
      "Sample: 100%|████████| 768/768 [00:12, 59.33it/s, step size=4.49e-01, acc. prob=0.862]\n"
     ]
    },
    {
     "name": "stdout",
     "output_type": "stream",
     "text": [
      "Train_y stats: min=1.6562, max=9.6278\n",
      "Train_x stats: min=0.0641, max=116.4395\n",
      "Train_x stats: max=116.4395, min=0.0641\n"
     ]
    },
    {
     "name": "stderr",
     "output_type": "stream",
     "text": [
      "Sample: 100%|████████| 768/768 [00:26, 28.57it/s, step size=1.65e-01, acc. prob=0.918]\n"
     ]
    },
    {
     "name": "stdout",
     "output_type": "stream",
     "text": [
      "Train_y stats: min=1.6562, max=9.6278\n",
      "Train_x stats: min=0.0641, max=116.4395\n",
      "Train_x stats: max=116.4395, min=0.0641\n"
     ]
    },
    {
     "name": "stderr",
     "output_type": "stream",
     "text": [
      "Sample: 100%|████████| 768/768 [00:32, 23.74it/s, step size=1.45e-01, acc. prob=0.826]\n"
     ]
    },
    {
     "name": "stdout",
     "output_type": "stream",
     "text": [
      "Train_y stats: min=1.6562, max=9.6278\n",
      "Train_x stats: min=0.0641, max=116.4395\n",
      "Train_x stats: max=116.4395, min=0.0641\n"
     ]
    },
    {
     "name": "stderr",
     "output_type": "stream",
     "text": [
      "Sample: 100%|████████| 768/768 [00:30, 25.39it/s, step size=1.24e-01, acc. prob=0.939]\n"
     ]
    },
    {
     "name": "stdout",
     "output_type": "stream",
     "text": [
      "Train_y stats: min=1.6562, max=9.6278\n",
      "Train_x stats: min=0.0641, max=116.4395\n",
      "Train_x stats: max=116.4395, min=0.0641\n"
     ]
    },
    {
     "name": "stderr",
     "output_type": "stream",
     "text": [
      "Sample: 100%|████████| 768/768 [00:30, 25.32it/s, step size=1.38e-01, acc. prob=0.921]\n"
     ]
    },
    {
     "name": "stdout",
     "output_type": "stream",
     "text": [
      "Train_y stats: min=1.6562, max=9.6278\n",
      "Train_x stats: min=0.0500, max=116.4395\n",
      "Train_x stats: max=116.4395, min=0.0500\n"
     ]
    },
    {
     "name": "stderr",
     "output_type": "stream",
     "text": [
      "Sample: 100%|████████| 768/768 [00:31, 24.19it/s, step size=1.16e-01, acc. prob=0.949]\n"
     ]
    },
    {
     "name": "stdout",
     "output_type": "stream",
     "text": [
      "Train_y stats: min=1.6562, max=9.6278\n",
      "Train_x stats: min=0.0500, max=116.4395\n",
      "Train_x stats: max=116.4395, min=0.0500\n"
     ]
    },
    {
     "name": "stderr",
     "output_type": "stream",
     "text": [
      "Sample: 100%|████████| 768/768 [00:23, 32.76it/s, step size=1.89e-01, acc. prob=0.789]\n"
     ]
    },
    {
     "name": "stdout",
     "output_type": "stream",
     "text": [
      "Train_y stats: min=1.6562, max=9.6278\n",
      "Train_x stats: min=0.0500, max=116.4395\n",
      "Train_x stats: max=116.4395, min=0.0500\n"
     ]
    },
    {
     "name": "stderr",
     "output_type": "stream",
     "text": [
      "Sample: 100%|████████| 768/768 [00:24, 31.64it/s, step size=2.31e-01, acc. prob=0.735]\n"
     ]
    },
    {
     "name": "stdout",
     "output_type": "stream",
     "text": [
      "Best input for weight tensor([0.5000, 0.0000, 0.5000]):\n",
      "  Accuracy = 0.2042\n",
      "  Sparsity = 0.1250\n",
      "\n",
      "=== Optimizing for weight vector tensor([0.3333, 0.3333, 0.3333]) ===\n"
     ]
    },
    {
     "name": "stderr",
     "output_type": "stream",
     "text": [
      "Sample: 100%|████████| 768/768 [00:16, 47.94it/s, step size=3.13e-01, acc. prob=0.863]\n"
     ]
    },
    {
     "name": "stdout",
     "output_type": "stream",
     "text": [
      "Train_y stats: min=0.9690, max=8.7074\n",
      "Train_x stats: min=0.0622, max=124.3992\n",
      "Train_x stats: max=124.3992, min=0.0622\n"
     ]
    },
    {
     "name": "stderr",
     "output_type": "stream",
     "text": [
      "Sample: 100%|████████| 768/768 [00:17, 42.86it/s, step size=2.35e-01, acc. prob=0.928]\n"
     ]
    },
    {
     "name": "stdout",
     "output_type": "stream",
     "text": [
      "Train_y stats: min=0.9690, max=8.7074\n",
      "Train_x stats: min=0.0500, max=124.3992\n",
      "Train_x stats: max=124.3992, min=0.0500\n"
     ]
    },
    {
     "name": "stderr",
     "output_type": "stream",
     "text": [
      "Sample: 100%|████████| 768/768 [00:13, 58.86it/s, step size=3.94e-01, acc. prob=0.884]\n"
     ]
    },
    {
     "name": "stdout",
     "output_type": "stream",
     "text": [
      "Train_y stats: min=0.9690, max=10.2484\n",
      "Train_x stats: min=0.0500, max=124.3992\n",
      "Train_x stats: max=124.3992, min=0.0500\n"
     ]
    },
    {
     "name": "stderr",
     "output_type": "stream",
     "text": [
      "Sample: 100%|████████| 768/768 [00:26, 28.79it/s, step size=1.60e-01, acc. prob=0.926]\n"
     ]
    },
    {
     "name": "stdout",
     "output_type": "stream",
     "text": [
      "Train_y stats: min=0.9690, max=10.2484\n",
      "Train_x stats: min=0.0500, max=124.3992\n",
      "Train_x stats: max=124.3992, min=0.0500\n"
     ]
    },
    {
     "name": "stderr",
     "output_type": "stream",
     "text": [
      "Sample: 100%|████████| 768/768 [00:11, 65.17it/s, step size=5.27e-01, acc. prob=0.841]\n"
     ]
    },
    {
     "name": "stdout",
     "output_type": "stream",
     "text": [
      "Train_y stats: min=0.9690, max=10.2484\n",
      "Train_x stats: min=0.0500, max=124.3992\n",
      "Train_x stats: max=124.3992, min=0.0500\n"
     ]
    },
    {
     "name": "stderr",
     "output_type": "stream",
     "text": [
      "Sample: 100%|████████| 768/768 [00:34, 22.44it/s, step size=5.88e-02, acc. prob=0.918]\n"
     ]
    },
    {
     "name": "stdout",
     "output_type": "stream",
     "text": [
      "Train_y stats: min=0.9690, max=10.2484\n",
      "Train_x stats: min=0.0500, max=124.3992\n",
      "Train_x stats: max=124.3992, min=0.0500\n"
     ]
    },
    {
     "name": "stderr",
     "output_type": "stream",
     "text": [
      "Sample: 100%|████████| 768/768 [00:12, 61.31it/s, step size=4.53e-01, acc. prob=0.887]\n"
     ]
    },
    {
     "name": "stdout",
     "output_type": "stream",
     "text": [
      "Train_y stats: min=0.9690, max=10.2484\n",
      "Train_x stats: min=0.0500, max=124.3992\n",
      "Train_x stats: max=124.3992, min=0.0500\n"
     ]
    },
    {
     "name": "stderr",
     "output_type": "stream",
     "text": [
      "Sample: 100%|████████| 768/768 [00:13, 55.73it/s, step size=4.55e-01, acc. prob=0.895]\n"
     ]
    },
    {
     "name": "stdout",
     "output_type": "stream",
     "text": [
      "Train_y stats: min=0.9690, max=10.2484\n",
      "Train_x stats: min=0.0500, max=124.3992\n",
      "Train_x stats: max=124.3992, min=0.0500\n"
     ]
    },
    {
     "name": "stderr",
     "output_type": "stream",
     "text": [
      "Sample: 100%|████████| 768/768 [00:14, 53.92it/s, step size=4.47e-01, acc. prob=0.818]\n"
     ]
    },
    {
     "name": "stdout",
     "output_type": "stream",
     "text": [
      "Train_y stats: min=0.9690, max=10.2484\n",
      "Train_x stats: min=0.0500, max=124.3992\n",
      "Train_x stats: max=124.3992, min=0.0500\n"
     ]
    },
    {
     "name": "stderr",
     "output_type": "stream",
     "text": [
      "Sample: 100%|████████| 768/768 [00:13, 56.84it/s, step size=4.45e-01, acc. prob=0.903]\n"
     ]
    },
    {
     "name": "stdout",
     "output_type": "stream",
     "text": [
      "Train_y stats: min=0.9690, max=10.2484\n",
      "Train_x stats: min=0.0500, max=124.3992\n",
      "Train_x stats: max=124.3992, min=0.0500\n"
     ]
    },
    {
     "name": "stderr",
     "output_type": "stream",
     "text": [
      "Sample: 100%|████████| 768/768 [00:13, 58.24it/s, step size=4.14e-01, acc. prob=0.923]\n"
     ]
    },
    {
     "name": "stdout",
     "output_type": "stream",
     "text": [
      "Best input for weight tensor([0.3333, 0.3333, 0.3333]):\n",
      "  Accuracy = 0.1928\n",
      "  Sparsity = 0.1250\n",
      "\n",
      "=== Optimizing for weight vector tensor([0.6667, 0.3333, 0.0000]) ===\n"
     ]
    },
    {
     "name": "stderr",
     "output_type": "stream",
     "text": [
      "Sample: 100%|████████| 768/768 [00:12, 63.85it/s, step size=4.02e-01, acc. prob=0.901]\n"
     ]
    },
    {
     "name": "stdout",
     "output_type": "stream",
     "text": [
      "Train_y stats: min=0.5221, max=0.5818\n",
      "Train_x stats: min=0.0661, max=127.2632\n",
      "Train_x stats: max=127.2632, min=0.0661\n"
     ]
    },
    {
     "name": "stderr",
     "output_type": "stream",
     "text": [
      "Sample: 100%|████████| 768/768 [00:13, 55.25it/s, step size=4.28e-01, acc. prob=0.896]\n"
     ]
    },
    {
     "name": "stdout",
     "output_type": "stream",
     "text": [
      "Train_y stats: min=0.5221, max=0.5818\n",
      "Train_x stats: min=0.0661, max=127.2632\n",
      "Train_x stats: max=127.2632, min=0.0661\n"
     ]
    },
    {
     "name": "stderr",
     "output_type": "stream",
     "text": [
      "Sample: 100%|████████| 768/768 [00:11, 65.76it/s, step size=4.83e-01, acc. prob=0.851]\n"
     ]
    },
    {
     "name": "stdout",
     "output_type": "stream",
     "text": [
      "Train_y stats: min=0.5221, max=0.5818\n",
      "Train_x stats: min=0.0661, max=127.2632\n",
      "Train_x stats: max=127.2632, min=0.0661\n"
     ]
    },
    {
     "name": "stderr",
     "output_type": "stream",
     "text": [
      "Sample: 100%|████████| 768/768 [00:19, 39.29it/s, step size=4.20e-01, acc. prob=0.908]\n"
     ]
    },
    {
     "name": "stdout",
     "output_type": "stream",
     "text": [
      "Train_y stats: min=0.5221, max=0.5818\n",
      "Train_x stats: min=0.0661, max=128.0000\n",
      "Train_x stats: max=128.0000, min=0.0661\n"
     ]
    },
    {
     "name": "stderr",
     "output_type": "stream",
     "text": [
      "Sample: 100%|████████| 768/768 [00:11, 64.72it/s, step size=4.76e-01, acc. prob=0.900]\n"
     ]
    },
    {
     "name": "stdout",
     "output_type": "stream",
     "text": [
      "Train_y stats: min=0.5221, max=0.5818\n",
      "Train_x stats: min=0.0661, max=128.0000\n",
      "Train_x stats: max=128.0000, min=0.0661\n"
     ]
    },
    {
     "name": "stderr",
     "output_type": "stream",
     "text": [
      "Sample: 100%|████████| 768/768 [00:12, 61.99it/s, step size=4.69e-01, acc. prob=0.893]\n"
     ]
    },
    {
     "name": "stdout",
     "output_type": "stream",
     "text": [
      "Train_y stats: min=0.5221, max=0.5818\n",
      "Train_x stats: min=0.0661, max=128.0000\n",
      "Train_x stats: max=128.0000, min=0.0661\n"
     ]
    },
    {
     "name": "stderr",
     "output_type": "stream",
     "text": [
      "Sample: 100%|████████| 768/768 [00:11, 65.28it/s, step size=4.68e-01, acc. prob=0.888]\n"
     ]
    },
    {
     "name": "stdout",
     "output_type": "stream",
     "text": [
      "Train_y stats: min=0.5221, max=0.5818\n",
      "Train_x stats: min=0.0661, max=128.0000\n",
      "Train_x stats: max=128.0000, min=0.0661\n"
     ]
    },
    {
     "name": "stderr",
     "output_type": "stream",
     "text": [
      "Sample: 100%|████████| 768/768 [00:14, 54.00it/s, step size=3.32e-01, acc. prob=0.939]\n"
     ]
    },
    {
     "name": "stdout",
     "output_type": "stream",
     "text": [
      "Train_y stats: min=0.5221, max=0.5818\n",
      "Train_x stats: min=0.0661, max=128.0000\n",
      "Train_x stats: max=128.0000, min=0.0661\n"
     ]
    },
    {
     "name": "stderr",
     "output_type": "stream",
     "text": [
      "Sample: 100%|████████| 768/768 [00:13, 59.05it/s, step size=4.19e-01, acc. prob=0.922]\n"
     ]
    },
    {
     "name": "stdout",
     "output_type": "stream",
     "text": [
      "Train_y stats: min=0.5221, max=0.5818\n",
      "Train_x stats: min=0.0661, max=128.0000\n",
      "Train_x stats: max=128.0000, min=0.0661\n"
     ]
    },
    {
     "name": "stderr",
     "output_type": "stream",
     "text": [
      "Sample: 100%|████████| 768/768 [00:19, 39.75it/s, step size=4.44e-01, acc. prob=0.912]\n"
     ]
    },
    {
     "name": "stdout",
     "output_type": "stream",
     "text": [
      "Train_y stats: min=0.5221, max=0.5818\n",
      "Train_x stats: min=0.0661, max=128.0000\n",
      "Train_x stats: max=128.0000, min=0.0661\n"
     ]
    },
    {
     "name": "stderr",
     "output_type": "stream",
     "text": [
      "Sample: 100%|████████| 768/768 [00:12, 62.07it/s, step size=4.51e-01, acc. prob=0.905]\n"
     ]
    },
    {
     "name": "stdout",
     "output_type": "stream",
     "text": [
      "Best input for weight tensor([0.6667, 0.3333, 0.0000]):\n",
      "  Accuracy = 0.2066\n",
      "  Sparsity = 0.1250\n",
      "\n",
      "=== Optimizing for weight vector tensor([0.3333, 0.6667, 0.0000]) ===\n"
     ]
    },
    {
     "name": "stderr",
     "output_type": "stream",
     "text": [
      "Sample: 100%|████████| 768/768 [00:11, 64.12it/s, step size=3.51e-01, acc. prob=0.926]\n"
     ]
    },
    {
     "name": "stdout",
     "output_type": "stream",
     "text": [
      "Train_y stats: min=0.3142, max=0.3527\n",
      "Train_x stats: min=0.0585, max=125.1294\n",
      "Train_x stats: max=125.1294, min=0.0585\n"
     ]
    },
    {
     "name": "stderr",
     "output_type": "stream",
     "text": [
      "Sample: 100%|████████| 768/768 [00:12, 62.29it/s, step size=3.83e-01, acc. prob=0.913]\n"
     ]
    },
    {
     "name": "stdout",
     "output_type": "stream",
     "text": [
      "Train_y stats: min=0.3142, max=0.3527\n",
      "Train_x stats: min=0.0585, max=125.1294\n",
      "Train_x stats: max=125.1294, min=0.0585\n"
     ]
    },
    {
     "name": "stderr",
     "output_type": "stream",
     "text": [
      "Sample: 100%|████████| 768/768 [00:14, 52.45it/s, step size=4.08e-01, acc. prob=0.906]\n"
     ]
    },
    {
     "name": "stdout",
     "output_type": "stream",
     "text": [
      "Train_y stats: min=0.3142, max=0.3527\n",
      "Train_x stats: min=0.0585, max=128.0000\n",
      "Train_x stats: max=128.0000, min=0.0585\n"
     ]
    },
    {
     "name": "stderr",
     "output_type": "stream",
     "text": [
      "Sample: 100%|████████| 768/768 [00:15, 48.10it/s, step size=3.79e-01, acc. prob=0.927]\n"
     ]
    },
    {
     "name": "stdout",
     "output_type": "stream",
     "text": [
      "Train_y stats: min=0.3142, max=0.3527\n",
      "Train_x stats: min=0.0585, max=128.0000\n",
      "Train_x stats: max=128.0000, min=0.0585\n"
     ]
    },
    {
     "name": "stderr",
     "output_type": "stream",
     "text": [
      "Sample: 100%|████████| 768/768 [00:12, 60.46it/s, step size=4.14e-01, acc. prob=0.913]\n"
     ]
    },
    {
     "name": "stdout",
     "output_type": "stream",
     "text": [
      "Train_y stats: min=0.3142, max=0.3527\n",
      "Train_x stats: min=0.0585, max=128.0000\n",
      "Train_x stats: max=128.0000, min=0.0585\n"
     ]
    },
    {
     "name": "stderr",
     "output_type": "stream",
     "text": [
      "Sample: 100%|████████| 768/768 [00:21, 35.42it/s, step size=3.92e-01, acc. prob=0.920]\n"
     ]
    },
    {
     "name": "stdout",
     "output_type": "stream",
     "text": [
      "Train_y stats: min=0.3142, max=0.3527\n",
      "Train_x stats: min=0.0585, max=128.0000\n",
      "Train_x stats: max=128.0000, min=0.0585\n"
     ]
    },
    {
     "name": "stderr",
     "output_type": "stream",
     "text": [
      "Sample: 100%|████████| 768/768 [00:12, 61.10it/s, step size=3.55e-01, acc. prob=0.912]\n"
     ]
    },
    {
     "name": "stdout",
     "output_type": "stream",
     "text": [
      "Train_y stats: min=0.3142, max=0.3527\n",
      "Train_x stats: min=0.0585, max=128.0000\n",
      "Train_x stats: max=128.0000, min=0.0585\n"
     ]
    },
    {
     "name": "stderr",
     "output_type": "stream",
     "text": [
      "Sample: 100%|████████| 768/768 [00:20, 37.07it/s, step size=4.21e-01, acc. prob=0.866]\n"
     ]
    },
    {
     "name": "stdout",
     "output_type": "stream",
     "text": [
      "Train_y stats: min=0.3142, max=0.3527\n",
      "Train_x stats: min=0.0585, max=128.0000\n",
      "Train_x stats: max=128.0000, min=0.0585\n"
     ]
    },
    {
     "name": "stderr",
     "output_type": "stream",
     "text": [
      "Sample: 100%|████████| 768/768 [00:12, 62.94it/s, step size=3.87e-01, acc. prob=0.916]\n"
     ]
    },
    {
     "name": "stdout",
     "output_type": "stream",
     "text": [
      "Train_y stats: min=0.3142, max=0.3527\n",
      "Train_x stats: min=0.0585, max=128.0000\n",
      "Train_x stats: max=128.0000, min=0.0585\n"
     ]
    },
    {
     "name": "stderr",
     "output_type": "stream",
     "text": [
      "Sample: 100%|████████| 768/768 [00:21, 35.18it/s, step size=4.18e-01, acc. prob=0.897]\n"
     ]
    },
    {
     "name": "stdout",
     "output_type": "stream",
     "text": [
      "Train_y stats: min=0.3142, max=0.3527\n",
      "Train_x stats: min=0.0585, max=128.0000\n",
      "Train_x stats: max=128.0000, min=0.0585\n"
     ]
    },
    {
     "name": "stderr",
     "output_type": "stream",
     "text": [
      "Sample: 100%|████████| 768/768 [00:11, 67.12it/s, step size=4.00e-01, acc. prob=0.904]\n"
     ]
    },
    {
     "name": "stdout",
     "output_type": "stream",
     "text": [
      "Best input for weight tensor([0.3333, 0.6667, 0.0000]):\n",
      "  Accuracy = 0.2735\n",
      "  Sparsity = 0.1250\n",
      "\n",
      "=== Optimizing for weight vector tensor([0.3333, 0.0000, 0.6667]) ===\n"
     ]
    },
    {
     "name": "stderr",
     "output_type": "stream",
     "text": [
      "Sample: 100%|████████| 768/768 [00:12, 63.09it/s, step size=4.64e-01, acc. prob=0.919]\n"
     ]
    },
    {
     "name": "stdout",
     "output_type": "stream",
     "text": [
      "Train_y stats: min=1.8361, max=19.6476\n",
      "Train_x stats: min=0.1165, max=125.3780\n",
      "Train_x stats: max=125.3780, min=0.1165\n"
     ]
    },
    {
     "name": "stderr",
     "output_type": "stream",
     "text": [
      "Sample: 100%|████████| 768/768 [00:16, 47.73it/s, step size=3.07e-01, acc. prob=0.948]\n"
     ]
    },
    {
     "name": "stdout",
     "output_type": "stream",
     "text": [
      "Train_y stats: min=1.8361, max=19.6476\n",
      "Train_x stats: min=0.1165, max=125.3780\n",
      "Train_x stats: max=125.3780, min=0.1165\n"
     ]
    },
    {
     "name": "stderr",
     "output_type": "stream",
     "text": [
      "Sample: 100%|████████| 768/768 [00:21, 35.28it/s, step size=2.57e-01, acc. prob=0.752]\n"
     ]
    },
    {
     "name": "stdout",
     "output_type": "stream",
     "text": [
      "Train_y stats: min=1.8361, max=19.6476\n",
      "Train_x stats: min=0.1165, max=125.3780\n",
      "Train_x stats: max=125.3780, min=0.1165\n"
     ]
    },
    {
     "name": "stderr",
     "output_type": "stream",
     "text": [
      "Sample: 100%|████████| 768/768 [00:11, 64.95it/s, step size=6.18e-01, acc. prob=0.896]\n"
     ]
    },
    {
     "name": "stdout",
     "output_type": "stream",
     "text": [
      "Train_y stats: min=1.8361, max=19.6476\n",
      "Train_x stats: min=0.1165, max=125.3780\n",
      "Train_x stats: max=125.3780, min=0.1165\n"
     ]
    },
    {
     "name": "stderr",
     "output_type": "stream",
     "text": [
      "Sample: 100%|████████| 768/768 [00:16, 47.25it/s, step size=3.76e-01, acc. prob=0.925]\n"
     ]
    },
    {
     "name": "stdout",
     "output_type": "stream",
     "text": [
      "Train_y stats: min=1.8361, max=19.6476\n",
      "Train_x stats: min=0.1165, max=125.3780\n",
      "Train_x stats: max=125.3780, min=0.1165\n"
     ]
    },
    {
     "name": "stderr",
     "output_type": "stream",
     "text": [
      "Sample: 100%|████████| 768/768 [00:12, 60.88it/s, step size=5.71e-01, acc. prob=0.882]\n"
     ]
    },
    {
     "name": "stdout",
     "output_type": "stream",
     "text": [
      "Train_y stats: min=1.8361, max=19.6476\n",
      "Train_x stats: min=0.1165, max=125.3780\n",
      "Train_x stats: max=125.3780, min=0.1165\n"
     ]
    },
    {
     "name": "stderr",
     "output_type": "stream",
     "text": [
      "Sample: 100%|████████| 768/768 [00:12, 62.03it/s, step size=5.72e-01, acc. prob=0.883]\n"
     ]
    },
    {
     "name": "stdout",
     "output_type": "stream",
     "text": [
      "Train_y stats: min=1.8361, max=19.6476\n",
      "Train_x stats: min=0.1165, max=125.3780\n",
      "Train_x stats: max=125.3780, min=0.1165\n"
     ]
    },
    {
     "name": "stderr",
     "output_type": "stream",
     "text": [
      "Sample: 100%|████████| 768/768 [00:21, 35.22it/s, step size=3.01e-01, acc. prob=0.924]\n"
     ]
    },
    {
     "name": "stdout",
     "output_type": "stream",
     "text": [
      "Train_y stats: min=1.8361, max=19.6476\n",
      "Train_x stats: min=0.0684, max=125.3780\n",
      "Train_x stats: max=125.3780, min=0.0684\n"
     ]
    },
    {
     "name": "stderr",
     "output_type": "stream",
     "text": [
      "Sample: 100%|████████| 768/768 [00:13, 57.62it/s, step size=5.79e-01, acc. prob=0.711]\n"
     ]
    },
    {
     "name": "stdout",
     "output_type": "stream",
     "text": [
      "Train_y stats: min=1.8361, max=19.6476\n",
      "Train_x stats: min=0.0684, max=125.3780\n",
      "Train_x stats: max=125.3780, min=0.0684\n"
     ]
    },
    {
     "name": "stderr",
     "output_type": "stream",
     "text": [
      "Sample: 100%|████████| 768/768 [00:13, 57.87it/s, step size=4.92e-01, acc. prob=0.892]\n"
     ]
    },
    {
     "name": "stdout",
     "output_type": "stream",
     "text": [
      "Train_y stats: min=1.8361, max=19.6476\n",
      "Train_x stats: min=0.0684, max=125.3780\n",
      "Train_x stats: max=125.3780, min=0.0684\n"
     ]
    },
    {
     "name": "stderr",
     "output_type": "stream",
     "text": [
      "Sample: 100%|████████| 768/768 [00:22, 33.58it/s, step size=2.78e-01, acc. prob=0.871]\n"
     ]
    },
    {
     "name": "stdout",
     "output_type": "stream",
     "text": [
      "Best input for weight tensor([0.3333, 0.0000, 0.6667]):\n",
      "  Accuracy = 0.1991\n",
      "  Sparsity = 0.1250\n",
      "\n",
      "=== Optimizing for weight vector tensor([0.6667, 0.0000, 0.3333]) ===\n"
     ]
    },
    {
     "name": "stderr",
     "output_type": "stream",
     "text": [
      "Sample: 100%|████████| 768/768 [00:13, 59.04it/s, step size=4.42e-01, acc. prob=0.903]\n"
     ]
    },
    {
     "name": "stdout",
     "output_type": "stream",
     "text": [
      "Train_y stats: min=2.0599, max=7.8023\n",
      "Train_x stats: min=0.0858, max=127.4597\n",
      "Train_x stats: max=127.4597, min=0.0858\n"
     ]
    },
    {
     "name": "stderr",
     "output_type": "stream",
     "text": [
      "Sample: 100%|████████| 768/768 [00:14, 52.33it/s, step size=3.50e-01, acc. prob=0.877]\n"
     ]
    },
    {
     "name": "stdout",
     "output_type": "stream",
     "text": [
      "Train_y stats: min=2.0599, max=7.8023\n",
      "Train_x stats: min=0.0529, max=127.4597\n",
      "Train_x stats: max=127.4597, min=0.0529\n"
     ]
    },
    {
     "name": "stderr",
     "output_type": "stream",
     "text": [
      "Sample: 100%|████████| 768/768 [00:18, 41.77it/s, step size=2.31e-01, acc. prob=0.911]\n"
     ]
    },
    {
     "name": "stdout",
     "output_type": "stream",
     "text": [
      "Train_y stats: min=2.0599, max=7.8023\n",
      "Train_x stats: min=0.0529, max=127.4597\n",
      "Train_x stats: max=127.4597, min=0.0529\n"
     ]
    },
    {
     "name": "stderr",
     "output_type": "stream",
     "text": [
      "Sample: 100%|████████| 768/768 [00:15, 48.52it/s, step size=3.77e-01, acc. prob=0.753]\n"
     ]
    },
    {
     "name": "stdout",
     "output_type": "stream",
     "text": [
      "Train_y stats: min=2.0599, max=7.8023\n",
      "Train_x stats: min=0.0529, max=127.4597\n",
      "Train_x stats: max=127.4597, min=0.0529\n"
     ]
    },
    {
     "name": "stderr",
     "output_type": "stream",
     "text": [
      "Sample: 100%|████████| 768/768 [00:15, 50.74it/s, step size=3.28e-01, acc. prob=0.884]\n"
     ]
    },
    {
     "name": "stdout",
     "output_type": "stream",
     "text": [
      "Train_y stats: min=2.0599, max=7.8023\n",
      "Train_x stats: min=0.0529, max=127.4597\n",
      "Train_x stats: max=127.4597, min=0.0529\n"
     ]
    },
    {
     "name": "stderr",
     "output_type": "stream",
     "text": [
      "Sample: 100%|████████| 768/768 [00:33, 23.06it/s, step size=7.82e-02, acc. prob=0.957]\n"
     ]
    },
    {
     "name": "stdout",
     "output_type": "stream",
     "text": [
      "Train_y stats: min=2.0599, max=7.8023\n",
      "Train_x stats: min=0.0529, max=127.4597\n",
      "Train_x stats: max=127.4597, min=0.0529\n"
     ]
    },
    {
     "name": "stderr",
     "output_type": "stream",
     "text": [
      "Sample: 100%|████████| 768/768 [00:29, 25.80it/s, step size=9.84e-02, acc. prob=0.929]\n"
     ]
    },
    {
     "name": "stdout",
     "output_type": "stream",
     "text": [
      "Train_y stats: min=2.0599, max=7.8023\n",
      "Train_x stats: min=0.0500, max=127.8873\n",
      "Train_x stats: max=127.8873, min=0.0500\n"
     ]
    },
    {
     "name": "stderr",
     "output_type": "stream",
     "text": [
      "Sample: 100%|████████| 768/768 [00:31, 24.25it/s, step size=7.52e-02, acc. prob=0.952]\n"
     ]
    },
    {
     "name": "stdout",
     "output_type": "stream",
     "text": [
      "Train_y stats: min=2.0599, max=7.8023\n",
      "Train_x stats: min=0.0500, max=127.8873\n",
      "Train_x stats: max=127.8873, min=0.0500\n"
     ]
    },
    {
     "name": "stderr",
     "output_type": "stream",
     "text": [
      "Sample: 100%|████████| 768/768 [00:16, 46.55it/s, step size=3.21e-01, acc. prob=0.908]\n"
     ]
    },
    {
     "name": "stdout",
     "output_type": "stream",
     "text": [
      "Train_y stats: min=2.0599, max=7.8023\n",
      "Train_x stats: min=0.0500, max=127.8873\n",
      "Train_x stats: max=127.8873, min=0.0500\n"
     ]
    },
    {
     "name": "stderr",
     "output_type": "stream",
     "text": [
      "Sample: 100%|████████| 768/768 [00:13, 54.88it/s, step size=4.13e-01, acc. prob=0.892]\n"
     ]
    },
    {
     "name": "stdout",
     "output_type": "stream",
     "text": [
      "Train_y stats: min=2.0599, max=7.8023\n",
      "Train_x stats: min=0.0500, max=127.8873\n",
      "Train_x stats: max=127.8873, min=0.0500\n"
     ]
    },
    {
     "name": "stderr",
     "output_type": "stream",
     "text": [
      "Sample: 100%|████████| 768/768 [00:16, 47.21it/s, step size=4.20e-01, acc. prob=0.882]\n"
     ]
    },
    {
     "name": "stdout",
     "output_type": "stream",
     "text": [
      "Best input for weight tensor([0.6667, 0.0000, 0.3333]):\n",
      "  Accuracy = 0.1976\n",
      "  Sparsity = 0.1250\n",
      "\n",
      "=== Optimizing for weight vector tensor([0.0000, 0.6667, 0.0000]) ===\n"
     ]
    },
    {
     "name": "stderr",
     "output_type": "stream",
     "text": [
      "Sample: 100%|████████| 768/768 [00:10, 70.07it/s, step size=4.71e-01, acc. prob=0.896]\n"
     ]
    },
    {
     "name": "stdout",
     "output_type": "stream",
     "text": [
      "Train_y stats: min=0.0833, max=0.0833\n",
      "Train_x stats: min=0.0546, max=117.4771\n",
      "Train_x stats: max=117.4771, min=0.0546\n"
     ]
    },
    {
     "name": "stderr",
     "output_type": "stream",
     "text": [
      "Sample: 100%|████████| 768/768 [00:10, 71.96it/s, step size=4.54e-01, acc. prob=0.925]\n"
     ]
    },
    {
     "name": "stdout",
     "output_type": "stream",
     "text": [
      "Train_y stats: min=0.0833, max=0.0833\n",
      "Train_x stats: min=0.0500, max=117.4771\n",
      "Train_x stats: max=117.4771, min=0.0500\n"
     ]
    },
    {
     "name": "stderr",
     "output_type": "stream",
     "text": [
      "Sample: 100%|████████| 768/768 [00:10, 73.30it/s, step size=4.22e-01, acc. prob=0.913]\n"
     ]
    },
    {
     "name": "stdout",
     "output_type": "stream",
     "text": [
      "Train_y stats: min=0.0833, max=0.0833\n",
      "Train_x stats: min=0.0500, max=128.0000\n",
      "Train_x stats: max=128.0000, min=0.0500\n"
     ]
    },
    {
     "name": "stderr",
     "output_type": "stream",
     "text": [
      "Sample: 100%|████████| 768/768 [00:24, 31.20it/s, step size=3.73e-01, acc. prob=0.942]\n"
     ]
    },
    {
     "name": "stdout",
     "output_type": "stream",
     "text": [
      "Train_y stats: min=0.0833, max=0.0833\n",
      "Train_x stats: min=0.0500, max=128.0000\n",
      "Train_x stats: max=128.0000, min=0.0500\n"
     ]
    },
    {
     "name": "stderr",
     "output_type": "stream",
     "text": [
      "Sample: 100%|████████| 768/768 [00:11, 66.94it/s, step size=4.98e-01, acc. prob=0.895]\n"
     ]
    },
    {
     "name": "stdout",
     "output_type": "stream",
     "text": [
      "Train_y stats: min=0.0833, max=0.0833\n",
      "Train_x stats: min=0.0500, max=128.0000\n",
      "Train_x stats: max=128.0000, min=0.0500\n"
     ]
    },
    {
     "name": "stderr",
     "output_type": "stream",
     "text": [
      "Sample: 100%|████████| 768/768 [00:10, 71.56it/s, step size=4.57e-01, acc. prob=0.890]\n"
     ]
    },
    {
     "name": "stdout",
     "output_type": "stream",
     "text": [
      "Train_y stats: min=0.0833, max=0.0833\n",
      "Train_x stats: min=0.0500, max=128.0000\n",
      "Train_x stats: max=128.0000, min=0.0500\n"
     ]
    },
    {
     "name": "stderr",
     "output_type": "stream",
     "text": [
      "Sample: 100%|████████| 768/768 [00:24, 30.95it/s, step size=4.21e-01, acc. prob=0.921]\n"
     ]
    },
    {
     "name": "stdout",
     "output_type": "stream",
     "text": [
      "Train_y stats: min=0.0833, max=0.0833\n",
      "Train_x stats: min=0.0500, max=128.0000\n",
      "Train_x stats: max=128.0000, min=0.0500\n"
     ]
    },
    {
     "name": "stderr",
     "output_type": "stream",
     "text": [
      "Sample: 100%|████████| 768/768 [00:21, 35.06it/s, step size=3.80e-01, acc. prob=0.936]\n"
     ]
    },
    {
     "name": "stdout",
     "output_type": "stream",
     "text": [
      "Train_y stats: min=0.0833, max=0.0833\n",
      "Train_x stats: min=0.0500, max=128.0000\n",
      "Train_x stats: max=128.0000, min=0.0500\n"
     ]
    },
    {
     "name": "stderr",
     "output_type": "stream",
     "text": [
      "Sample: 100%|████████| 768/768 [00:11, 69.29it/s, step size=5.12e-01, acc. prob=0.829]\n"
     ]
    },
    {
     "name": "stdout",
     "output_type": "stream",
     "text": [
      "Train_y stats: min=0.0833, max=0.0833\n",
      "Train_x stats: min=0.0500, max=128.0000\n",
      "Train_x stats: max=128.0000, min=0.0500\n"
     ]
    },
    {
     "name": "stderr",
     "output_type": "stream",
     "text": [
      "Sample: 100%|████████| 768/768 [00:20, 37.15it/s, step size=4.38e-01, acc. prob=0.904]\n"
     ]
    },
    {
     "name": "stdout",
     "output_type": "stream",
     "text": [
      "Train_y stats: min=0.0833, max=0.0833\n",
      "Train_x stats: min=0.0500, max=128.0000\n",
      "Train_x stats: max=128.0000, min=0.0500\n"
     ]
    },
    {
     "name": "stderr",
     "output_type": "stream",
     "text": [
      "Sample: 100%|████████| 768/768 [00:19, 39.20it/s, step size=4.88e-01, acc. prob=0.882]\n"
     ]
    },
    {
     "name": "stdout",
     "output_type": "stream",
     "text": [
      "Best input for weight tensor([0.0000, 0.6667, 0.0000]):\n",
      "  Accuracy = 0.1976\n",
      "  Sparsity = 0.1250\n",
      "\n",
      "=== Optimizing for weight vector tensor([0.0000, 0.3333, 0.6667]) ===\n"
     ]
    },
    {
     "name": "stderr",
     "output_type": "stream",
     "text": [
      "Sample: 100%|████████| 768/768 [00:11, 69.72it/s, step size=5.53e-01, acc. prob=0.865]\n"
     ]
    },
    {
     "name": "stdout",
     "output_type": "stream",
     "text": [
      "Train_y stats: min=2.3428, max=13.3616\n",
      "Train_x stats: min=0.0742, max=112.5271\n",
      "Train_x stats: max=112.5271, min=0.0742\n"
     ]
    },
    {
     "name": "stderr",
     "output_type": "stream",
     "text": [
      "Sample: 100%|████████| 768/768 [00:13, 55.01it/s, step size=4.54e-01, acc. prob=0.842]\n"
     ]
    },
    {
     "name": "stdout",
     "output_type": "stream",
     "text": [
      "Train_y stats: min=2.3428, max=13.3616\n",
      "Train_x stats: min=0.0742, max=112.5271\n",
      "Train_x stats: max=112.5271, min=0.0742\n"
     ]
    },
    {
     "name": "stderr",
     "output_type": "stream",
     "text": [
      "Sample: 100%|████████| 768/768 [00:13, 56.74it/s, step size=4.00e-01, acc. prob=0.936]\n"
     ]
    },
    {
     "name": "stdout",
     "output_type": "stream",
     "text": [
      "Train_y stats: min=2.3428, max=13.3616\n",
      "Train_x stats: min=0.0742, max=112.5271\n",
      "Train_x stats: max=112.5271, min=0.0742\n"
     ]
    },
    {
     "name": "stderr",
     "output_type": "stream",
     "text": [
      "Sample: 100%|████████| 768/768 [00:13, 58.65it/s, step size=4.38e-01, acc. prob=0.892]\n"
     ]
    },
    {
     "name": "stdout",
     "output_type": "stream",
     "text": [
      "Train_y stats: min=2.3428, max=13.3616\n",
      "Train_x stats: min=0.0742, max=112.5271\n",
      "Train_x stats: max=112.5271, min=0.0742\n"
     ]
    },
    {
     "name": "stderr",
     "output_type": "stream",
     "text": [
      "Sample: 100%|████████| 768/768 [00:15, 49.08it/s, step size=3.48e-01, acc. prob=0.930]\n"
     ]
    },
    {
     "name": "stdout",
     "output_type": "stream",
     "text": [
      "Train_y stats: min=2.3428, max=13.3616\n",
      "Train_x stats: min=0.0742, max=112.5271\n",
      "Train_x stats: max=112.5271, min=0.0742\n"
     ]
    },
    {
     "name": "stderr",
     "output_type": "stream",
     "text": [
      "Sample: 100%|████████| 768/768 [00:11, 69.20it/s, step size=5.15e-01, acc. prob=0.887]\n"
     ]
    },
    {
     "name": "stdout",
     "output_type": "stream",
     "text": [
      "Train_y stats: min=2.3428, max=13.3616\n",
      "Train_x stats: min=0.0742, max=112.5271\n",
      "Train_x stats: max=112.5271, min=0.0742\n"
     ]
    },
    {
     "name": "stderr",
     "output_type": "stream",
     "text": [
      "Sample: 100%|████████| 768/768 [00:18, 41.17it/s, step size=3.18e-01, acc. prob=0.938]\n"
     ]
    },
    {
     "name": "stdout",
     "output_type": "stream",
     "text": [
      "Train_y stats: min=2.3428, max=13.3616\n",
      "Train_x stats: min=0.0742, max=112.5271\n",
      "Train_x stats: max=112.5271, min=0.0742\n"
     ]
    },
    {
     "name": "stderr",
     "output_type": "stream",
     "text": [
      "Sample: 100%|████████| 768/768 [00:14, 51.71it/s, step size=3.24e-01, acc. prob=0.937]\n"
     ]
    },
    {
     "name": "stdout",
     "output_type": "stream",
     "text": [
      "Train_y stats: min=2.3428, max=13.3616\n",
      "Train_x stats: min=0.0742, max=112.5271\n",
      "Train_x stats: max=112.5271, min=0.0742\n"
     ]
    },
    {
     "name": "stderr",
     "output_type": "stream",
     "text": [
      "Sample: 100%|████████| 768/768 [00:13, 57.35it/s, step size=4.72e-01, acc. prob=0.852]\n"
     ]
    },
    {
     "name": "stdout",
     "output_type": "stream",
     "text": [
      "Train_y stats: min=2.3428, max=13.4399\n",
      "Train_x stats: min=0.0742, max=112.5271\n",
      "Train_x stats: max=112.5271, min=0.0742\n"
     ]
    },
    {
     "name": "stderr",
     "output_type": "stream",
     "text": [
      "Sample: 100%|████████| 768/768 [00:13, 57.73it/s, step size=4.74e-01, acc. prob=0.870]\n"
     ]
    },
    {
     "name": "stdout",
     "output_type": "stream",
     "text": [
      "Train_y stats: min=2.3428, max=13.4399\n",
      "Train_x stats: min=0.0742, max=112.5271\n",
      "Train_x stats: max=112.5271, min=0.0742\n"
     ]
    },
    {
     "name": "stderr",
     "output_type": "stream",
     "text": [
      "Sample: 100%|████████| 768/768 [00:12, 59.28it/s, step size=4.89e-01, acc. prob=0.878]\n"
     ]
    },
    {
     "name": "stdout",
     "output_type": "stream",
     "text": [
      "Best input for weight tensor([0.0000, 0.3333, 0.6667]):\n",
      "  Accuracy = 0.1976\n",
      "  Sparsity = 0.1250\n",
      "Best accuracy: -1.3428068053132542\n",
      "Best input: tensor([ 4.0902, 18.9026,  0.4304])\n"
     ]
    },
    {
     "data": {
      "image/png": "[encoded data removed]",
      "text/plain": [
       "<Figure size 1000x500 with 1 Axes>"
      ]
     },
     "metadata": {},
     "output_type": "display_data"
    },
    {
     "data": {
      "image/png": "[encoded data removed]",
      "text/plain": [
       "<Figure size 1000x500 with 1 Axes>"
      ]
     },
     "metadata": {},
     "output_type": "display_data"
    },
    {
     "data": {
      "image/png": "[encoded data removed]",
      "text/plain": [
       "<Figure size 1000x500 with 1 Axes>"
      ]
     },
     "metadata": {},
     "output_type": "display_data"
    }
   ],
   "source": [
    "\n",
    "import warnings\n",
    "\n",
    "from botorch.generation.gen import OptimizationGradientError\n",
    "warnings.filterwarnings(\"ignore\")\n",
    "\n",
    "import os\n",
    "import sys\n",
    "sys.path.append('../')\n",
    "\n",
    "\n",
    "import time\n",
    "import numpy as np \n",
    "import pandas as pd\n",
    "\n",
    "import sklearn\n",
    "from sklearn.preprocessing import StandardScaler\n",
    "from sklearn.model_selection import train_test_split\n",
    "\n",
    "import torch\n",
    "from torch.quasirandom import SobolEngine\n",
    "torch.set_default_dtype(torch.double)\n",
    "\n",
    "# BoTorch / GPyTorch / SAASBO\n",
    "from botorch.models import SaasFullyBayesianSingleTaskGP\n",
    "from botorch.fit import fit_fully_bayesian_model_nuts\n",
    "from botorch.acquisition import qUpperConfidenceBound\n",
    "from botorch.optim import optimize_acqf\n",
    "from botorch.utils.sampling import draw_sobol_samples\n",
    "\n",
    "# Custom ResNet model\n",
    "from ResNet_model import *  # Assumes NN_prediction is defined here\n",
    "from torch.utils.data import DataLoader, TensorDataset\n",
    "\n",
    "# Load your data (make sure this is defined)\n",
    "# Example placeholder\n",
    "\n",
    "data = pd.read_csv('data/Berlin_wind_multiclass.csv')\n",
    "print(data.head())\n",
    "print(data.shape)\n",
    "# Create a DataFrame that includes all columns except 'X50Hertz..MW.' / 'TransnetBW..MW.'\n",
    "target_column = 'X50Hertz..MW.'    #  'X50Hertz..MW.' or 'TransnetBW..MW.'\n",
    "features = data.drop(columns=[target_column])\n",
    "\n",
    "# Initialize the StandardScaler\n",
    "scaler = StandardScaler()\n",
    "\n",
    "# Fit the scaler to the feature subset and transform it\n",
    "scaled_features = scaler.fit_transform(features)\n",
    "\n",
    "# Convert the scaled features back to a DataFrame with column names\n",
    "scaled_features_df = pd.DataFrame(scaled_features, columns=features.columns)\n",
    "\n",
    "# Combine the scaled features with the \"X50Hertz..MW\" column\n",
    "scaled_data = pd.concat([scaled_features_df, data[target_column]], axis=1)\n",
    "\n",
    "# Define the number of classes to divide\n",
    "num_classes = 5\n",
    "\n",
    "# Case 1: Divide the target column into 5 classes based on quantiles\n",
    "# Create one-hot encoded columns for class labels\n",
    "class_labels = pd.qcut(data[target_column], q=num_classes, labels=False)\n",
    "class_columns = pd.get_dummies(class_labels, prefix='class')\n",
    "\n",
    "# Concatenate the one-hot encoded columns with the original DataFrame\n",
    "data_with_classes = pd.concat([data, class_columns], axis=1)\n",
    "y = data_with_classes[['class_0', 'class_1', 'class_2', 'class_3', 'class_4']]  \n",
    "\n",
    "# Make a list of features to drop\n",
    "dropcols = [target_column, 'class_0', 'class_1', 'class_2', 'class_3', 'class_4']  \n",
    "X = data_with_classes.drop(columns = dropcols, axis=0)\n",
    "\n",
    "X_train, X_test, y_train, y_test = train_test_split(X, y, test_size=0.2, random_state = 42)  \n",
    "X_val, X_test, y_val, y_test = train_test_split(X_test, y_test, test_size=0.5, random_state = 42)  \n",
    "\n",
    "\n",
    "train_features = torch.tensor(X_train.values, dtype=dtype, device=device)\n",
    "train_targets = torch.tensor(y_train.values, dtype=dtype, device=device)\n",
    "val_features = torch.tensor(X_val.values, dtype=dtype, device=device)\n",
    "val_targets = torch.tensor(y_val.values, dtype=dtype, device=device)\n",
    "test_features = torch.tensor(X_test.values, dtype=dtype, device=device)\n",
    "test_targets = torch.tensor(y_test.values, dtype=dtype, device=device)\n",
    "\n",
    "train_ds = TensorDataset(train_features, train_targets)\n",
    "val_ds = TensorDataset(val_features, val_targets)\n",
    "test_ds = TensorDataset(test_features, test_targets)\n",
    "\n",
    "bs = 1000 \n",
    "train_loader = DataLoader(train_ds, batch_size=bs, shuffle=True)\n",
    "val_loader = DataLoader(val_ds, batch_size=len(val_ds), shuffle=True)\n",
    "test_loader = DataLoader(test_ds, batch_size=len(test_ds), shuffle=True)\n",
    "\n",
    "\n",
    "training_data = {\n",
    "    'features' : X_train,\n",
    "    'labels' : y_train\n",
    "}\n",
    "\n",
    "testing_data = {\n",
    "    'features' : X_test,\n",
    "    'labels' : y_test\n",
    "}\n",
    "\n",
    "validation_data = {\n",
    "    'features' : X_val,\n",
    "    'labels' : y_val\n",
    "}\n",
    "\n",
    "\n",
    "fairness_feature = 'GHI'    # fairness_feature is only used in multi-class classification\n",
    "training_data = (training_data['features'], training_data['labels'])\n",
    "testing_data = (testing_data['features'], testing_data['labels'])\n",
    "validation_data = (validation_data['features'], validation_data['labels'])\n",
    "\n",
    "def black_box_function(x, weights):\n",
    "    try:\n",
    "        x_np = x.detach().cpu().numpy().reshape(-1)\n",
    "        y_pred, time, model = NN_prediction(x_np, test_features, train_loader, val_loader)\n",
    "        sparsity = compute_model_density(model)\n",
    "        acc = sklearn.metrics.accuracy_score(y_test, y_pred)\n",
    "        objectives = torch.tensor([1.0 - acc, sparsity, time])  # minimize (1 - accuracy)\n",
    "        return (acc, sparsity, time, (objectives @ weights).item())  # Weighted sum of objectives\n",
    "    except:\n",
    "        print(\"Unexpected eval error\", sys.exc_info()[0])\n",
    "        return torch.tensor([1.0])  # Worst case if evaluation fails\n",
    "\n",
    "# SAASBO settings\n",
    "dim = 3  # Modify if your hyperparameter space is different\n",
    "bounds = torch.Tensor([\n",
    "    [2.0, 8.0, 0.05],  # Lower bounds\n",
    "    [5.0, 128.0, 0.5],  # Upper bounds\n",
    "])\n",
    "\n",
    "n_init = 16\n",
    "\n",
    "weights = torch.tensor([\n",
    "    [0.0, 1.0, 0.0],\n",
    "    [0.0, 0.0, 1.0],\n",
    "    [1.0, 0.0, 0.0],\n",
    "    [0.5, 0.5, 0.0],\n",
    "    [0.0, 0.5, 0.5],\n",
    "    [0.5, 0.0, 0.5],\n",
    "    [1/3, 1/3, 1/3],\n",
    "    [2/3, 1/3, 0.0],\n",
    "    [1/3, 2/3, 0.0],\n",
    "    [1/3, 0.0, 2/3],\n",
    "    [2/3, 0.0, 1/3],\n",
    "    [0.0, 2/3, 0.0],\n",
    "    [0.0, 1/3, 2/3],\n",
    "])  # Weights for objectives\n",
    "\n",
    "train_x = draw_sobol_samples(bounds=bounds, n=1, q=n_init).squeeze(0)\n",
    "print(black_box_function(train_x[0], weights[0])[2])\n",
    "train_y = torch.Tensor([black_box_function(x, weights[0])[-1] for x in train_x])\n",
    "# train_y = train_y[:, 2].unsqueeze(1)  # Only keep the objective value\n",
    "print(train_x.shape, train_y.shape)\n",
    "\n",
    "train_y_scalar = train_y.unsqueeze(1)  # Shape [n_init, 1]\n",
    "model = SaasFullyBayesianSingleTaskGP(train_x, train_y_scalar)\n",
    "\n",
    "n_iter = 10\n",
    "sparse = torch.zeros(n_iter)\n",
    "accuracy = torch.zeros(n_iter)\n",
    "\n",
    "n_weights = weights.shape[0]\n",
    "n_iter = 10\n",
    "\n",
    "all_sparse = []\n",
    "all_accuracy = []\n",
    "all_time = []\n",
    "\n",
    "for j in range(n_weights):\n",
    "    print(f\"\\n=== Optimizing for weight vector {weights[j]} ===\")\n",
    "\n",
    "    # Fresh initialization for each run\n",
    "    train_x = draw_sobol_samples(bounds=bounds, n=1, q=n_init).squeeze(0)\n",
    "    train_y = torch.Tensor([black_box_function(x, weights[j])[-1] for x in train_x])\n",
    "\n",
    "    # Fit initial model\n",
    "    train_y_scalar = train_y.unsqueeze(1)  # Shape [n_init, 1]\n",
    "    model = SaasFullyBayesianSingleTaskGP(train_x, train_y_scalar)\n",
    "    fit_fully_bayesian_model_nuts(model)\n",
    "\n",
    "    for i in range(n_iter):\n",
    "        model.eval()\n",
    "        acq_func = qUpperConfidenceBound(model=model, beta=0.1)\n",
    "\n",
    "        print(f\"Train_y stats: min={train_y.min().item():.4f}, max={train_y.max().item():.4f}\")\n",
    "        print(f\"Train_x stats: min={train_x.min().item():.4f}, max={train_x.max().item():.4f}\")\n",
    "        print(f\"Train_x stats: max={train_x.max().item():.4f}, min={train_x.min().item():.4f}\")\n",
    "\n",
    "        try:\n",
    "            new_x, _ = optimize_acqf(\n",
    "                acq_function=acq_func,\n",
    "                bounds=bounds,\n",
    "                q=1,\n",
    "                num_restarts=10,\n",
    "                raw_samples=512,\n",
    "            )\n",
    "\n",
    "            acc, spar, time, new_y = black_box_function(new_x.squeeze(0), weights[j])\n",
    "            # new_y = new_y.unsqueeze(0)  # Shape [1]\n",
    "\n",
    "            # print(type(new_y), type(train_y))\n",
    "            new_y = torch.tensor([new_y], dtype=torch.float32, device=device)\n",
    "            train_x = torch.cat([train_x, new_x], dim=0)\n",
    "            train_y = torch.cat([train_y, new_y], dim=0)\n",
    "\n",
    "            bounds = bounds.to(dtype=torch.double)\n",
    "            train_x = train_x.to(dtype=torch.double)\n",
    "            train_y = train_y.to(dtype=torch.double)\n",
    "\n",
    "            train_y_scalar = train_y.unsqueeze(1)  # Shape [n_init + i + 1, 1]\n",
    "            model = SaasFullyBayesianSingleTaskGP(train_x, train_y_scalar)\n",
    "            fit_fully_bayesian_model_nuts(model)\n",
    "\n",
    "        except OptimizationGradientError:\n",
    "            print(\"Optimization failed due to gradient error.\")\n",
    "            train_x = train_x + 1e-9 * torch.randn_like(train_x)\n",
    "            continue\n",
    "\n",
    "        except Exception as e:\n",
    "            print(f\"Error during optimization: {e}\")\n",
    "            continue\n",
    "\n",
    "    # Evaluate best result for this weight\n",
    "    best_idx = train_y.argmin()\n",
    "    best_input = train_x[best_idx]\n",
    "\n",
    "    # Re-evaluate full objectives at best input\n",
    "    acc, spar, time, _ = black_box_function(best_input, weights[j])\n",
    "    all_sparse.append(spar)\n",
    "    all_accuracy.append(acc)\n",
    "    all_time.append(time)\n",
    "\n",
    "    print(f\"Best input for weight {weights[j]}:\")\n",
    "    print(f\"  Accuracy = {acc:.4f}\")\n",
    "    print(f\"  Sparsity = {spar:.4f}\")\n",
    "\n",
    "\n",
    "#Plotting results:\n",
    "import matplotlib.pyplot as plt\n",
    "\n",
    "plt.figure(figsize=(10, 5))\n",
    "# Plot accuracy vs sparsity\n",
    "plt.plot(all_sparse, all_accuracy, marker='o')\n",
    "plt.xlabel('Sparsity')\n",
    "plt.ylabel('1-Accuracy')\n",
    "plt.title('(1-Accuracy) vs Sparsity')\n",
    "plt.grid()\n",
    "#plt.show()\n",
    "#Saving the plot\n",
    "plt.savefig('accuracy_vs_sparsity.png')\n",
    "\n",
    "# Plotting time vs accuracy\n",
    "plt.figure(figsize=(10, 5))\n",
    "plt.plot(all_time, all_accuracy, marker='o')\n",
    "plt.xlabel('Time (s)')\n",
    "plt.ylabel('1-Accuracy')\n",
    "plt.title('(1-Accuracy) vs Time')\n",
    "plt.grid()\n",
    "plt.savefig('accuracy_vs_time.png')\n",
    "\n",
    "# Plotting time vs sparsity\n",
    "plt.figure(figsize=(10, 5))\n",
    "plt.plot(all_time, all_sparse, marker='o')\n",
    "plt.xlabel('Time (s)')\n",
    "plt.ylabel('Sparsity')\n",
    "plt.title('Sparsity vs Time')\n",
    "plt.grid()\n",
    "plt.savefig('sparsity_vs_time.png')\n",
    "\n",
    "best_idx = train_y.argmin()\n",
    "print(\"Best accuracy:\", 1.0 - train_y[best_idx].item())\n",
    "print(\"Best input:\", train_x[best_idx])\n"
   ]
  },
  {
   "cell_type": "code",
   "execution_count": 2,
   "id": "6c33a7e9-c0fd-4dcd-9aac-c48d9f672fe6",
   "metadata": {},
   "outputs": [
    {
     "data": {
      "image/png": "[encoded data removed]",
      "text/plain": [
       "<Figure size 1000x600 with 1 Axes>"
      ]
     },
     "metadata": {},
     "output_type": "display_data"
    }
   ],
   "source": [
    "def is_dominated(p, others):\n",
    "    return np.any(np.all(others <= p, axis=1) & np.any(others < p, axis=1))\n",
    "\n",
    "\n",
    "points = np.column_stack([all_time, all_accuracy])\n",
    "\n",
    "# Step 1: Filter non-dominated points\n",
    "non_dominated = np.array([p for p in points if not is_dominated(p, np.delete(points, np.where(np.all(points == p, axis=1)), axis=0))])\n",
    "\n",
    "# Step 2: Sort by first objective (e.g., time)\n",
    "pareto_sorted = non_dominated[np.argsort(non_dominated[:, 0])]\n",
    "\n",
    "# Step 3: Plot\n",
    "plt.figure(figsize=(10, 6))\n",
    "plt.plot(points[:, 0], points[:, 1], 'bo-', label='All Points')\n",
    "plt.plot(pareto_sorted[:, 0], pareto_sorted[:, 1], 'r-', marker='o', label='Pareto Front')\n",
    "\n",
    "plt.xlabel(\"Time (s)\")\n",
    "plt.ylabel(\"1 - Accuracy\")\n",
    "plt.title(\"Pareto Front: 1 - Accuracy vs Time\")\n",
    "plt.legend()\n",
    "plt.grid(True)\n",
    "plt.show()\n"
   ]
  }
 ],
 "metadata": {
  "kernelspec": {
   "display_name": "Python 3 (ipykernel)",
   "language": "python",
   "name": "python3"
  },
  "language_info": {
   "codemirror_mode": {
    "name": "ipython",
    "version": 3
   },
   "file_extension": ".py",
   "mimetype": "text/x-python",
   "name": "python",
   "nbconvert_exporter": "python",
   "pygments_lexer": "ipython3",
   "version": "3.11.11"
  }
 },
 "nbformat": 4,
 "nbformat_minor": 5
}
